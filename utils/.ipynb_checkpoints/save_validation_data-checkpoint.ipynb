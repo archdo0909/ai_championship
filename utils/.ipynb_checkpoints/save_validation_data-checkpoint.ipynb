{
 "cells": [
  {
   "cell_type": "markdown",
   "metadata": {},
   "source": [
    "### 패키지 import"
   ]
  },
  {
   "cell_type": "code",
   "execution_count": 1,
   "metadata": {
    "ExecuteTime": {
     "end_time": "2020-10-27T06:40:02.774886Z",
     "start_time": "2020-10-27T06:40:02.305165Z"
    }
   },
   "outputs": [],
   "source": [
    "from pathlib import Path\n",
    "from sklearn.model_selection import train_test_split\n",
    "\n",
    "import os\n",
    "\n",
    "import numpy as np\n",
    "import pandas as pd"
   ]
  },
  {
   "cell_type": "markdown",
   "metadata": {},
   "source": [
    "### 첫 줄 헤드 제거"
   ]
  },
  {
   "cell_type": "code",
   "execution_count": 2,
   "metadata": {
    "ExecuteTime": {
     "end_time": "2020-10-22T08:42:25.069999Z",
     "start_time": "2020-10-22T08:42:25.064295Z"
    }
   },
   "outputs": [],
   "source": [
    "def erase_head(path: str, file_name: str):\n",
    "    root = os.path.expanduser(path)\n",
    "    root = Path(root)\n",
    "    file_path = root / file_name\n",
    "\n",
    "    fld = file_path.glob(\"**/*\")\n",
    "    files = [x for x in fld if os.path.isfile(x)]\n",
    "    \n",
    "    for file in files:\n",
    "        if str(file).find(\"_00.txt\") != -1:\n",
    "            print(file)\n",
    "            a_file = open(file, \"r\")\n",
    "            lines = a_file.readlines()\n",
    "            a_file.close()\n",
    "            \n",
    "            del lines[0]\n",
    "            \n",
    "            new_file = open(file, \"w+\")\n",
    "            for line in lines:\n",
    "                new_file.write(line)\n",
    "            \n",
    "            new_file.close()"
   ]
  },
  {
   "cell_type": "code",
   "execution_count": 4,
   "metadata": {
    "ExecuteTime": {
     "end_time": "2020-10-22T08:43:05.375735Z",
     "start_time": "2020-10-22T08:43:05.372406Z"
    }
   },
   "outputs": [],
   "source": [
    "erase_head('/workspace/eddie/ai_championship/data', 'lg_train_sample')"
   ]
  },
  {
   "cell_type": "markdown",
   "metadata": {},
   "source": [
    "### extract label data with 5000 lines"
   ]
  },
  {
   "cell_type": "code",
   "execution_count": 9,
   "metadata": {
    "ExecuteTime": {
     "end_time": "2020-10-27T06:39:22.771771Z",
     "start_time": "2020-10-27T06:39:22.764371Z"
    }
   },
   "outputs": [],
   "source": [
    "def extract_label_5000(path: str, file_name: str):\n",
    "\n",
    "    root = os.path.expanduser(path)\n",
    "    root = Path(root)\n",
    "    file_path = root / file_name\n",
    "    \n",
    "    fld = file_path.glob(\"**/*\")\n",
    "    files = [x for x in fld if os.path.isfile(x)]\n",
    "    files.sort()\n",
    "    for file in files:\n",
    "        data = []\n",
    "        with open(file, 'r') as f:\n",
    "            while 1:\n",
    "                line = f.readline()\n",
    "                if not line:\n",
    "                    break\n",
    "                data.append(line.strip().split('\\t'))\n",
    "        \n",
    "        print(str(file))\n",
    "        tag_num = str(file).split(\"_\")[-1].split(\".\")[0]\n",
    "        data = np.array(data)\n",
    "        X = data[:,:4]\n",
    "        f = open(\"/workspace/eddie/ai_championship/data/lg_svdd/label/label_data.txt\", \"ab\")\n",
    "\n",
    "        for d in X:\n",
    "            f.write(f\"{d[0]}\\t{d[1]}\\t{d[2]}\\t{d[3]}\\t{tag_num}\".encode())\n",
    "            f.write(\"\\n\".encode())\n",
    "        f.close()"
   ]
  },
  {
   "cell_type": "code",
   "execution_count": 10,
   "metadata": {
    "ExecuteTime": {
     "end_time": "2020-10-27T06:39:47.889455Z",
     "start_time": "2020-10-27T06:39:23.421327Z"
    }
   },
   "outputs": [
    {
     "name": "stdout",
     "output_type": "stream",
     "text": [
      "/workspace/eddie/ai_championship/data/lg_svdd/202003/03/202003_FLD165NBMA_vib_spectrum_modi_train_03.txt\n"
     ]
    },
    {
     "ename": "KeyboardInterrupt",
     "evalue": "",
     "output_type": "error",
     "traceback": [
      "\u001b[0;31m---------------------------------------------------------------------------\u001b[0m",
      "\u001b[0;31mKeyboardInterrupt\u001b[0m                         Traceback (most recent call last)",
      "\u001b[0;32m<ipython-input-10-26ef23bd9e00>\u001b[0m in \u001b[0;36m<module>\u001b[0;34m\u001b[0m\n\u001b[0;32m----> 1\u001b[0;31m \u001b[0mextract_label_5000\u001b[0m\u001b[0;34m(\u001b[0m\u001b[0;34m'/workspace/eddie/ai_championship/data'\u001b[0m\u001b[0;34m,\u001b[0m \u001b[0;34m'lg_svdd'\u001b[0m\u001b[0;34m)\u001b[0m\u001b[0;34m\u001b[0m\u001b[0;34m\u001b[0m\u001b[0m\n\u001b[0m",
      "\u001b[0;32m<ipython-input-9-17bd18727d99>\u001b[0m in \u001b[0;36mextract_label_5000\u001b[0;34m(path, file_name)\u001b[0m\n\u001b[1;32m     19\u001b[0m         \u001b[0mprint\u001b[0m\u001b[0;34m(\u001b[0m\u001b[0mstr\u001b[0m\u001b[0;34m(\u001b[0m\u001b[0mfile\u001b[0m\u001b[0;34m)\u001b[0m\u001b[0;34m)\u001b[0m\u001b[0;34m\u001b[0m\u001b[0;34m\u001b[0m\u001b[0m\n\u001b[1;32m     20\u001b[0m         \u001b[0mtag_num\u001b[0m \u001b[0;34m=\u001b[0m \u001b[0mstr\u001b[0m\u001b[0;34m(\u001b[0m\u001b[0mfile\u001b[0m\u001b[0;34m)\u001b[0m\u001b[0;34m.\u001b[0m\u001b[0msplit\u001b[0m\u001b[0;34m(\u001b[0m\u001b[0;34m\"_\"\u001b[0m\u001b[0;34m)\u001b[0m\u001b[0;34m[\u001b[0m\u001b[0;34m-\u001b[0m\u001b[0;36m1\u001b[0m\u001b[0;34m]\u001b[0m\u001b[0;34m.\u001b[0m\u001b[0msplit\u001b[0m\u001b[0;34m(\u001b[0m\u001b[0;34m\".\"\u001b[0m\u001b[0;34m)\u001b[0m\u001b[0;34m[\u001b[0m\u001b[0;36m0\u001b[0m\u001b[0;34m]\u001b[0m\u001b[0;34m\u001b[0m\u001b[0;34m\u001b[0m\u001b[0m\n\u001b[0;32m---> 21\u001b[0;31m         \u001b[0mdata\u001b[0m \u001b[0;34m=\u001b[0m \u001b[0mnp\u001b[0m\u001b[0;34m.\u001b[0m\u001b[0marray\u001b[0m\u001b[0;34m(\u001b[0m\u001b[0mdata\u001b[0m\u001b[0;34m)\u001b[0m\u001b[0;34m\u001b[0m\u001b[0;34m\u001b[0m\u001b[0m\n\u001b[0m\u001b[1;32m     22\u001b[0m         \u001b[0mX\u001b[0m \u001b[0;34m=\u001b[0m \u001b[0mdata\u001b[0m\u001b[0;34m[\u001b[0m\u001b[0;34m:\u001b[0m\u001b[0;34m,\u001b[0m\u001b[0;34m:\u001b[0m\u001b[0;36m4\u001b[0m\u001b[0;34m]\u001b[0m\u001b[0;34m\u001b[0m\u001b[0;34m\u001b[0m\u001b[0m\n\u001b[1;32m     23\u001b[0m         \u001b[0mf\u001b[0m \u001b[0;34m=\u001b[0m \u001b[0mopen\u001b[0m\u001b[0;34m(\u001b[0m\u001b[0;34m\"/workspace/eddie/ai_championship/data/lg_train/label/label_data.txt\"\u001b[0m\u001b[0;34m,\u001b[0m \u001b[0;34m\"ab\"\u001b[0m\u001b[0;34m)\u001b[0m\u001b[0;34m\u001b[0m\u001b[0;34m\u001b[0m\u001b[0m\n",
      "\u001b[0;31mKeyboardInterrupt\u001b[0m: "
     ]
    }
   ],
   "source": [
    "extract_label_5000('/workspace/eddie/ai_championship/data', 'lg_svdd')"
   ]
  },
  {
   "cell_type": "markdown",
   "metadata": {},
   "source": [
    "### extract label data (split)"
   ]
  },
  {
   "cell_type": "code",
   "execution_count": 2,
   "metadata": {
    "ExecuteTime": {
     "end_time": "2020-10-23T15:34:03.303890Z",
     "start_time": "2020-10-23T15:34:03.295650Z"
    },
    "code_folding": []
   },
   "outputs": [],
   "source": [
    "def extract_label(path: str, file_name: str):\n",
    "\n",
    "    root = os.path.expanduser(path)\n",
    "    root = Path(root)\n",
    "    file_path = root / file_name\n",
    "    \n",
    "    fld = file_path.glob(\"**/*\")\n",
    "    files = [x for x in fld if os.path.isfile(x)]\n",
    "    files.sort()\n",
    "    for file in files:\n",
    "        if \"_split_\" in str(file):\n",
    "            data = []\n",
    "            with open(file, 'r') as f:\n",
    "                while 1:\n",
    "                    line = f.readline()\n",
    "                    if not line:\n",
    "                        break\n",
    "                    data.append(line.strip().split('\\t'))\n",
    "\n",
    "            file_num = str(file).split(\"_\")[-3]\n",
    "            tag_num = str(file).split(\"_\")[-1].split(\".\")[0]\n",
    "            data = np.array(data)\n",
    "            X = data[:,:4]\n",
    "            f = open(\"/workspace/eddie/ai_championship/data/lg_train/label/label_data.txt\", \"ab\")\n",
    "\n",
    "            for d in X:\n",
    "                f.write(f\"{d[0]}\\t{d[1]}\\t{d[2]}\\t{d[3]}\\t{file_num}\\t{tag_num}\".encode())\n",
    "                f.write(\"\\n\".encode())\n",
    "            f.close()\n",
    "        else:\n",
    "            print(str(file))"
   ]
  },
  {
   "cell_type": "code",
   "execution_count": 3,
   "metadata": {
    "ExecuteTime": {
     "end_time": "2020-10-23T15:35:55.990814Z",
     "start_time": "2020-10-23T15:34:04.494262Z"
    },
    "scrolled": true
   },
   "outputs": [
    {
     "name": "stdout",
     "output_type": "stream",
     "text": [
      "/workspace/eddie/ai_championship/data/lg_train/202003/00/202003_FLD165NBMA_vib_spectrum_modi_train_00.txt\n",
      "/workspace/eddie/ai_championship/data/lg_train/202003/01/202003_FLD165NBMA_vib_spectrum_modi_train_01.txt\n",
      "/workspace/eddie/ai_championship/data/lg_train/202003/02/202003_FLD165NBMA_vib_spectrum_modi_train_02.txt\n",
      "/workspace/eddie/ai_championship/data/lg_train/202003/03/202003_FLD165NBMA_vib_spectrum_modi_train_03.txt\n",
      "/workspace/eddie/ai_championship/data/lg_train/202003/04/202003_FLD165NBMA_vib_spectrum_modi_train_04.txt\n",
      "/workspace/eddie/ai_championship/data/lg_train/202003/05/202003_FLD165NBMA_vib_spectrum_modi_train_05.txt\n",
      "/workspace/eddie/ai_championship/data/lg_train/202003/06/202003_FLD165NBMA_vib_spectrum_modi_train_06.txt\n",
      "/workspace/eddie/ai_championship/data/lg_train/202004/00/202004_FLD165NBMA_vib_spectrum_modi_train_00.txt\n",
      "/workspace/eddie/ai_championship/data/lg_train/202004/01/202004_FLD165NBMA_vib_spectrum_modi_train_01.txt\n",
      "/workspace/eddie/ai_championship/data/lg_train/202004/02/202004_FLD165NBMA_vib_spectrum_modi_train_02.txt\n",
      "/workspace/eddie/ai_championship/data/lg_train/202004/03/202004_FLD165NBMA_vib_spectrum_modi_train_03.txt\n",
      "/workspace/eddie/ai_championship/data/lg_train/202004/04/202004_FLD165NBMA_vib_spectrum_modi_train_04.txt\n",
      "/workspace/eddie/ai_championship/data/lg_train/202004/05/202004_FLD165NBMA_vib_spectrum_modi_train_05.txt\n",
      "/workspace/eddie/ai_championship/data/lg_train/202004/06/202004_FLD165NBMA_vib_spectrum_modi_train_06.txt\n",
      "/workspace/eddie/ai_championship/data/lg_train/202004/07/202004_FLD165NBMA_vib_spectrum_modi_train_07.txt\n",
      "/workspace/eddie/ai_championship/data/lg_train/202004/08/202004_FLD165NBMA_vib_spectrum_modi_train_08.txt\n"
     ]
    }
   ],
   "source": [
    "extract_label('/workspace/eddie/ai_championship/data', 'lg_train')"
   ]
  },
  {
   "cell_type": "markdown",
   "metadata": {},
   "source": [
    "### Delete Data (bash script file)"
   ]
  },
  {
   "cell_type": "code",
   "execution_count": null,
   "metadata": {},
   "outputs": [],
   "source": [
    "for entry in \"$target_path\"/* \n",
    "do\n",
    "    t_dir=\"$target_path${entry##*/}\"\n",
    "    #echo \"$t_dir\"\n",
    "    for folder in \"$t_dir\"/*\n",
    "    do\n",
    "        folder_name=\"${folder##*/}\"\n",
    "        #echo \"${folder_name%%.*}\"\n",
    "        \n",
    "        t_file=\"$t_dir/${folder_name##*/}\"\n",
    "        echo \"$t_file\"\n",
    "        rm \"$t_file\"/\"${_split*}\"\n",
    "    done\n",
    "    #echo \"Next\"\n",
    "done\n",
    "echo \"Done\""
   ]
  }
 ],
 "metadata": {
  "kernelspec": {
   "display_name": "Python 3",
   "language": "python",
   "name": "python3"
  },
  "language_info": {
   "codemirror_mode": {
    "name": "ipython",
    "version": 3
   },
   "file_extension": ".py",
   "mimetype": "text/x-python",
   "name": "python",
   "nbconvert_exporter": "python",
   "pygments_lexer": "ipython3",
   "version": "3.7.6"
  },
  "toc": {
   "base_numbering": 1,
   "nav_menu": {},
   "number_sections": false,
   "sideBar": true,
   "skip_h1_title": false,
   "title_cell": "Table of Contents",
   "title_sidebar": "Contents",
   "toc_cell": false,
   "toc_position": {},
   "toc_section_display": true,
   "toc_window_display": false
  }
 },
 "nbformat": 4,
 "nbformat_minor": 2
}
